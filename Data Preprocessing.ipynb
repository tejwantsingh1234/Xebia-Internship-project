{
 "cells": [
  {
   "cell_type": "code",
   "execution_count": 17,
   "id": "df6ecc25-3196-4408-8bc4-5b99e66fca79",
   "metadata": {},
   "outputs": [],
   "source": [
    "import tensorflow as tf\n",
    "import numpy as np\n",
    "import os\n",
    "import random\n",
    "from tensorflow.keras.preprocessing.image import load_img, img_to_array\n",
    "from tensorflow.keras.utils import to_categorical\n",
    "from tensorflow.keras.preprocessing.image import ImageDataGenerator, img_to_array, load_img"
   ]
  },
  {
   "cell_type": "code",
   "execution_count": 9,
   "id": "268c74c7-42ff-4315-b8a3-34b743e649ee",
   "metadata": {},
   "outputs": [],
   "source": [
    "dataset_path = 'Dataset/'\n",
    "augmented_dataset_path = 'Dataset_Augmented/'"
   ]
  },
  {
   "cell_type": "code",
   "execution_count": 3,
   "id": "8c1b2607-0860-48db-a76d-67cd7eb0549d",
   "metadata": {},
   "outputs": [],
   "source": [
    "person_folders = [f.path for f in os.scandir(dataset_path) if f.is_dir()]"
   ]
  },
  {
   "cell_type": "code",
   "execution_count": 14,
   "id": "78b90cf6-9eae-4a21-b1f2-ec0b2ebc2cd4",
   "metadata": {},
   "outputs": [
    {
     "name": "stdout",
     "output_type": "stream",
     "text": [
      "Preprocessed images saved to Processed_Dataset/.\n"
     ]
    }
   ],
   "source": [
    "from PIL import Image\n",
    "\n",
    "# Example function to preprocess and save images\n",
    "def preprocess_and_save_images(dataset_path, output_path, image_size=(128, 128)):\n",
    "    # Create output directory if it doesn't exist\n",
    "    os.makedirs(output_path, exist_ok=True)\n",
    "    \n",
    "    folders = sorted(os.listdir(dataset_path))\n",
    "    \n",
    "    for folder in folders:\n",
    "        folder_path = os.path.join(dataset_path, folder)\n",
    "        output_folder_path = os.path.join(output_path, folder)\n",
    "        os.makedirs(output_folder_path, exist_ok=True)\n",
    "        \n",
    "        images = os.listdir(folder_path)\n",
    "        \n",
    "        for image_name in images:\n",
    "            image_path = os.path.join(folder_path, image_name)\n",
    "            output_image_path = os.path.join(output_folder_path, image_name)\n",
    "            \n",
    "            # Load image, resize, and save\n",
    "            image = Image.open(image_path)\n",
    "            image = image.resize(image_size)\n",
    "            image = image.convert('RGB')  # Ensure RGB mode\n",
    "            image = np.array(image) / 255.0  # Normalize pixel values\n",
    "            \n",
    "            # Save the preprocessed image\n",
    "            Image.fromarray((image * 255).astype(np.uint8)).save(output_image_path)\n",
    "\n",
    "# Example usage\n",
    "output_path = 'Processed_Dataset/'\n",
    "preprocess_and_save_images(dataset_path, output_path)\n",
    "print(f'Preprocessed images saved to {output_path}.')"
   ]
  },
  {
   "cell_type": "code",
   "execution_count": 15,
   "id": "8a79d2c3-9907-40fa-9715-03f508f35ac8",
   "metadata": {},
   "outputs": [
    {
     "name": "stdout",
     "output_type": "stream",
     "text": [
      "Saved 1000 pairs of images to Paired_Images/.\n"
     ]
    }
   ],
   "source": [
    "# Function to generate pairs of images and save them to disk\n",
    "def generate_and_save_image_pairs(image_data, labels, num_pairs, output_path):\n",
    "    labels_list = list(set(labels))\n",
    "    label_to_indices = {label: np.where(labels == label)[0] for label in labels_list}\n",
    "    \n",
    "    pairs_saved = 0\n",
    "    for _ in range(num_pairs):\n",
    "        # Select a random label for positive pair\n",
    "        positive_label = random.choice(labels_list)\n",
    "        positive_index = random.choice(label_to_indices[positive_label])\n",
    "        positive_image = image_data[positive_index]\n",
    "        \n",
    "        # Select a different label for negative pair\n",
    "        negative_label = random.choice(labels_list)\n",
    "        while negative_label == positive_label:\n",
    "            negative_label = random.choice(labels_list)\n",
    "        negative_index = random.choice(label_to_indices[negative_label])\n",
    "        negative_image = image_data[negative_index]\n",
    "        \n",
    "        # Save positive and negative image pair\n",
    "        positive_image_path = os.path.join(output_path, f'positive_pair_{pairs_saved}.png')\n",
    "        negative_image_path = os.path.join(output_path, f'negative_pair_{pairs_saved}.png')\n",
    "        \n",
    "        Image.fromarray((positive_image * 255).astype(np.uint8)).save(positive_image_path)\n",
    "        Image.fromarray((negative_image * 255).astype(np.uint8)).save(negative_image_path)\n",
    "        \n",
    "        pairs_saved += 1\n",
    "    \n",
    "    print(f'Saved {pairs_saved} pairs of images to {output_path}.')\n",
    "\n",
    "# Example usage\n",
    "output_path = 'Paired_Images/'\n",
    "os.makedirs(output_path, exist_ok=True)\n",
    "generate_and_save_image_pairs(image_data, labels, num_pairs=1000, output_path=output_path)\n"
   ]
  },
  {
   "cell_type": "code",
   "execution_count": 18,
   "id": "b2a08b1e-f223-4387-8a8d-c2ec72b44add",
   "metadata": {},
   "outputs": [
    {
     "name": "stdout",
     "output_type": "stream",
     "text": [
      "Augmented and saved 1000 pairs of images to Augmented_Paired_Images/.\n"
     ]
    }
   ],
   "source": [
    "# Function to generate pairs of images and save augmented pairs to disk\n",
    "def augment_and_save_image_pairs(image_data, labels, num_pairs, output_path):\n",
    "    labels_list = list(set(labels))\n",
    "    label_to_indices = {label: np.where(labels == label)[0] for label in labels_list}\n",
    "    \n",
    "    # Create an ImageDataGenerator for augmentation\n",
    "    datagen = ImageDataGenerator(\n",
    "        rotation_range=20,\n",
    "        width_shift_range=0.1,\n",
    "        height_shift_range=0.1,\n",
    "        horizontal_flip=True,\n",
    "        brightness_range=[0.8, 1.2],\n",
    "        fill_mode='nearest'\n",
    "    )\n",
    "    \n",
    "    pairs_saved = 0\n",
    "    for _ in range(num_pairs):\n",
    "        # Select a random label for positive pair\n",
    "        positive_label = random.choice(labels_list)\n",
    "        positive_index = random.choice(label_to_indices[positive_label])\n",
    "        positive_image = image_data[positive_index]\n",
    "        \n",
    "        # Select a different label for negative pair\n",
    "        negative_label = random.choice(labels_list)\n",
    "        while negative_label == positive_label:\n",
    "            negative_label = random.choice(labels_list)\n",
    "        negative_index = random.choice(label_to_indices[negative_label])\n",
    "        negative_image = image_data[negative_index]\n",
    "        \n",
    "        # Augment positive and negative image pairs\n",
    "        augmented_positive_image = datagen.random_transform(positive_image)\n",
    "        augmented_negative_image = datagen.random_transform(negative_image)\n",
    "        \n",
    "        # Save augmented positive and negative image pair\n",
    "        positive_image_path = os.path.join(output_path, f'augmented_positive_pair_{pairs_saved}.png')\n",
    "        negative_image_path = os.path.join(output_path, f'augmented_negative_pair_{pairs_saved}.png')\n",
    "        \n",
    "        Image.fromarray((augmented_positive_image * 255).astype(np.uint8)).save(positive_image_path)\n",
    "        Image.fromarray((augmented_negative_image * 255).astype(np.uint8)).save(negative_image_path)\n",
    "        \n",
    "        pairs_saved += 1\n",
    "    \n",
    "    print(f'Augmented and saved {pairs_saved} pairs of images to {output_path}.')\n",
    "\n",
    "# Example usage\n",
    "output_path = 'Augmented_Paired_Images/'\n",
    "os.makedirs(output_path, exist_ok=True)\n",
    "augment_and_save_image_pairs(image_data, labels, num_pairs=1000, output_path=output_path)\n"
   ]
  },
  {
   "cell_type": "code",
   "execution_count": null,
   "id": "2c184f2d-1b9c-4e67-83f1-801603972f5f",
   "metadata": {},
   "outputs": [],
   "source": [
    "    "
   ]
  }
 ],
 "metadata": {
  "kernelspec": {
   "display_name": "Python 3 (ipykernel)",
   "language": "python",
   "name": "python3"
  },
  "language_info": {
   "codemirror_mode": {
    "name": "ipython",
    "version": 3
   },
   "file_extension": ".py",
   "mimetype": "text/x-python",
   "name": "python",
   "nbconvert_exporter": "python",
   "pygments_lexer": "ipython3",
   "version": "3.11.7"
  }
 },
 "nbformat": 4,
 "nbformat_minor": 5
}
